{
 "cells": [
  {
   "cell_type": "markdown",
   "id": "41219f7b-c430-4bb1-85c0-6a7351702aa0",
   "metadata": {},
   "source": [
    "**Q1. Write a program to accept percentage from the user and display the grade according to the following criteria:** "
   ]
  },
  {
   "cell_type": "code",
   "execution_count": 20,
   "id": "2b144e47-5b64-4783-b355-4a3f4e6e23d3",
   "metadata": {},
   "outputs": [
    {
     "name": "stdin",
     "output_type": "stream",
     "text": [
      "Please enter the marks: 45\n"
     ]
    },
    {
     "name": "stdout",
     "output_type": "stream",
     "text": [
      "The grade is: D\n"
     ]
    }
   ],
   "source": [
    "# A1.\n",
    "\n",
    "marks = int(input(\"Please enter the marks:\"))\n",
    "\n",
    "if marks > 90:\n",
    "    grade = \"A\"\n",
    "elif 80 < marks <= 90:\n",
    "    grade = \"B\"\n",
    "elif 60 <= marks <= 80:\n",
    "    grade = \"C\"\n",
    "else:\n",
    "    grade = \"D\"\n",
    "\n",
    "print(\"The grade is: {}\".format(grade))\n",
    "\n"
   ]
  },
  {
   "cell_type": "markdown",
   "id": "cdb70743-80fe-4624-8d15-f9838af15aa0",
   "metadata": {},
   "source": [
    "**Q2. Write a program to accept the cost price of a bike and display the road tax to be paid according to the following criteria:**"
   ]
  },
  {
   "cell_type": "code",
   "execution_count": 21,
   "id": "69fe2059-443d-4b3c-b6af-16c7f9af4853",
   "metadata": {},
   "outputs": [
    {
     "name": "stdin",
     "output_type": "stream",
     "text": [
      "Please enter the price: 75000\n"
     ]
    },
    {
     "name": "stdout",
     "output_type": "stream",
     "text": [
      "The tax is: 10%\n"
     ]
    }
   ],
   "source": [
    "# A2.\n",
    "\n",
    "price = int(input(\"Please enter the price:\"))\n",
    "\n",
    "if price > 100000:\n",
    "    tax = \"15%\"\n",
    "\n",
    "elif 50000 < price <= 100000:\n",
    "    tax = \"10%\"\n",
    "\n",
    "else:\n",
    "    tax = \"5%\"\n",
    "\n",
    "print(\"The tax is: {}\".format(tax))"
   ]
  },
  {
   "cell_type": "markdown",
   "id": "b401323f-1887-4a7e-917f-753fdbe059b8",
   "metadata": {},
   "source": [
    "**Q3. Accept any city from the user and display monuments of that city.**"
   ]
  },
  {
   "cell_type": "code",
   "execution_count": 26,
   "id": "2a8c74b2-e7b0-4827-8548-c78022e39c97",
   "metadata": {},
   "outputs": [
    {
     "name": "stdin",
     "output_type": "stream",
     "text": [
      "Please enter city name: Delhi\n"
     ]
    },
    {
     "name": "stdout",
     "output_type": "stream",
     "text": [
      "The monument is: Red Fort\n"
     ]
    }
   ],
   "source": [
    "# A3.\n",
    "\n",
    "city = str(input(\"Please enter city name:\"))\n",
    "\n",
    "if city == \"Delhi\":\n",
    "    monument = \"Red Fort\"\n",
    "\n",
    "elif city == \"Agra\":\n",
    "    monument = \"Taj Mahal\"\n",
    "    \n",
    "elif city == \"Jaipur\":\n",
    "    monument = \"Jal Mahal\"\n",
    "\n",
    "print(\"The monument is: {}\".format(monument))"
   ]
  },
  {
   "cell_type": "markdown",
   "id": "d8dbf7b5-0a9e-4a21-9877-6c52428675f8",
   "metadata": {},
   "source": [
    "**Q4. Check how many times a given number can be divided by 3 before it is less than or equal to 10,**"
   ]
  },
  {
   "cell_type": "code",
   "execution_count": 10,
   "id": "7948e9e9-fb41-43bc-8ada-232d98ba85ab",
   "metadata": {},
   "outputs": [
    {
     "name": "stdin",
     "output_type": "stream",
     "text": [
      "Please enter number: 37\n"
     ]
    },
    {
     "name": "stdout",
     "output_type": "stream",
     "text": [
      "The number can be divided 2 times\n"
     ]
    }
   ],
   "source": [
    "# A4.\n",
    "\n",
    "num_input = int(input(\"Please enter number:\"))\n",
    "count = 0\n",
    "\n",
    "while num_input > 10:\n",
    "    num_input /= 3\n",
    "    count += 1\n",
    "\n",
    "print(f\"The number can be divided {count} times\")\n",
    "\n",
    "    "
   ]
  },
  {
   "cell_type": "markdown",
   "id": "a2280aa4-6604-4085-8c5e-298a15c2038e",
   "metadata": {},
   "source": [
    "**Q5. When and why to use while loop in python give a detailed description with example?**"
   ]
  },
  {
   "cell_type": "markdown",
   "id": "c1e89117-dab5-4673-baa9-c4691832a4f2",
   "metadata": {},
   "source": [
    "**A5.**\n",
    "\n",
    "**When to Use a While Loop:**\n",
    "- **Unknown Iterations:** Use a while loop when you don't know in advance how many times the loop should iterate. For example, when waiting for a user to enter a specific input, or when performing calculations until a certain condition is met.\n",
    "- **Iterating Over Changing Conditions:** Use a while loop when you need to iterate based on changing conditions within the loop, such as updating variables or user input during the iteration process.\n",
    "- **Infinite Loop Control:** While loops are useful for creating controlled infinite loops that continue until a specific condition is met to break out of the loop.\n",
    "\n",
    "**Why Use a While Loop:**\n",
    "- **Dynamic Iteration:** While loops provide dynamic iteration control based on conditions, allowing you to adapt the iteration process as needed during runtime.\n",
    "- **Flexible Conditions:** The condition in a while loop can be any expression that evaluates to a boolean value, providing flexibility in defining loop termination criteria.\n",
    "- **Continual Checking:** While loops continually check the condition before each iteration, ensuring that the loop continues as long as the condition remains true."
   ]
  },
  {
   "cell_type": "code",
   "execution_count": 11,
   "id": "499d0c2b-9574-412a-9128-f829b1a06fa8",
   "metadata": {},
   "outputs": [
    {
     "name": "stdin",
     "output_type": "stream",
     "text": [
      "Please enter number: 45\n"
     ]
    },
    {
     "name": "stdout",
     "output_type": "stream",
     "text": [
      "The number can be divided 2 times\n"
     ]
    }
   ],
   "source": [
    "# Example:\n",
    "\n",
    "num_input = int(input(\"Please enter number:\"))\n",
    "count = 0\n",
    "\n",
    "while num_input > 10:\n",
    "    num_input /= 3\n",
    "    count += 1\n",
    "\n",
    "print(f\"The number can be divided {count} times\")"
   ]
  },
  {
   "cell_type": "markdown",
   "id": "77810835-4f84-4f6f-ba81-8c84ba45cd2d",
   "metadata": {},
   "source": [
    "**Q6. Use nested while loop to print three different pattern**"
   ]
  },
  {
   "cell_type": "code",
   "execution_count": 2,
   "id": "b38295b2-e1db-4926-8eab-6a842f858384",
   "metadata": {},
   "outputs": [
    {
     "name": "stdout",
     "output_type": "stream",
     "text": [
      "5 4 3 2 1 \n",
      "5 4 3 2 \n",
      "5 4 3 \n",
      "5 4 \n",
      "5 \n"
     ]
    }
   ],
   "source": [
    "# Example 1:\n",
    "row = 1\n",
    "while row <= 5:\n",
    "    col = 5\n",
    "    while col >= row:\n",
    "        print(col, end=\" \")\n",
    "        col -= 1\n",
    "    print()\n",
    "    row += 1"
   ]
  },
  {
   "cell_type": "code",
   "execution_count": 4,
   "id": "53e02f3d-6353-4fbd-9ba6-7382d4b215f8",
   "metadata": {},
   "outputs": [
    {
     "name": "stdout",
     "output_type": "stream",
     "text": [
      "1 \n",
      "1 2 \n",
      "1 2 3 \n",
      "1 2 3 4 \n",
      "1 2 3 4 5 \n"
     ]
    }
   ],
   "source": [
    "# Example 2:\n",
    "row = 1 \n",
    "while row <= 5:\n",
    "    col = 1\n",
    "    while col <= row:\n",
    "        print(col, end=\" \")\n",
    "        col += 1\n",
    "    print()\n",
    "    row += 1"
   ]
  },
  {
   "cell_type": "code",
   "execution_count": 6,
   "id": "cd24d83a-31c5-4c32-9f01-9985f8fd6180",
   "metadata": {},
   "outputs": [
    {
     "name": "stdout",
     "output_type": "stream",
     "text": [
      "* \n",
      "* * \n",
      "* * * \n",
      "* * * * \n",
      "* * * * * \n"
     ]
    }
   ],
   "source": [
    "# Example 3:\n",
    "\n",
    "row = 1\n",
    "\n",
    "while row <= 5:\n",
    "    col = 1\n",
    "    while col <= row:\n",
    "        print(\"*\", end=\" \")\n",
    "        col += 1\n",
    "    print()\n",
    "    row += 1"
   ]
  },
  {
   "cell_type": "markdown",
   "id": "722c6243-1d92-40b5-b61e-6de88fd8f8ec",
   "metadata": {},
   "source": [
    "**Q7. Reverse a while loop to display numbers from 10 to 1.**"
   ]
  },
  {
   "cell_type": "code",
   "execution_count": 7,
   "id": "ab78f697-2e1e-4ce9-a528-1c01ec747164",
   "metadata": {},
   "outputs": [
    {
     "name": "stdout",
     "output_type": "stream",
     "text": [
      "10\n",
      "9\n",
      "8\n",
      "7\n",
      "6\n",
      "5\n",
      "4\n",
      "3\n",
      "2\n",
      "1\n"
     ]
    }
   ],
   "source": [
    "# A7.\n",
    "\n",
    "num_print = 10\n",
    "\n",
    "while num_print > 0:\n",
    "    print(num_print)\n",
    "    num_print -= 1"
   ]
  },
  {
   "cell_type": "markdown",
   "id": "a67cc1a5-2b06-438b-8d2b-be79b50e52ff",
   "metadata": {},
   "source": [
    "**Q8. Reverse a while loop to display numbers from 10 to 1."
   ]
  },
  {
   "cell_type": "code",
   "execution_count": 8,
   "id": "720bb0a6-6117-46f1-9ca7-ce16d8b7cd1a",
   "metadata": {},
   "outputs": [
    {
     "name": "stdout",
     "output_type": "stream",
     "text": [
      "10\n",
      "9\n",
      "8\n",
      "7\n",
      "6\n",
      "5\n",
      "4\n",
      "3\n",
      "2\n",
      "1\n"
     ]
    }
   ],
   "source": [
    "# A8.\n",
    "\n",
    "num_print = 10\n",
    "\n",
    "while num_print > 0:\n",
    "    print(num_print)\n",
    "    num_print -= 1"
   ]
  },
  {
   "cell_type": "code",
   "execution_count": null,
   "id": "77bf3321-9132-450e-a1bb-408cba5ec9fc",
   "metadata": {},
   "outputs": [],
   "source": []
  }
 ],
 "metadata": {
  "kernelspec": {
   "display_name": "Python 3 (ipykernel)",
   "language": "python",
   "name": "python3"
  },
  "language_info": {
   "codemirror_mode": {
    "name": "ipython",
    "version": 3
   },
   "file_extension": ".py",
   "mimetype": "text/x-python",
   "name": "python",
   "nbconvert_exporter": "python",
   "pygments_lexer": "ipython3",
   "version": "3.12.2"
  }
 },
 "nbformat": 4,
 "nbformat_minor": 5
}
